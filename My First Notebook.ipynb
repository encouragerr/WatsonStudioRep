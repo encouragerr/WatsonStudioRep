{
    "cells": [
        {
            "metadata": {
                "collapsed": true
            },
            "cell_type": "markdown",
            "source": "# My Jupyter Notebook on IBM Watson Studio",
            "attachments": {}
        },
        {
            "metadata": {},
            "cell_type": "markdown",
            "source": "**Dmytro** <br>\nData Scientist or Ml Engeneer"
        },
        {
            "metadata": {},
            "cell_type": "markdown",
            "source": "*I'm interested in data science because I think it's one of the best way to have a job in 2020's*"
        },
        {
            "metadata": {},
            "cell_type": "markdown",
            "source": "Code in Cell 5 will write \"Hello Coursera\""
        },
        {
            "metadata": {},
            "cell_type": "code",
            "source": "print('Hello Coursera')",
            "execution_count": 4,
            "outputs": [
                {
                    "output_type": "stream",
                    "text": "Hello Coursera\n",
                    "name": "stdout"
                }
            ]
        },
        {
            "metadata": {},
            "cell_type": "markdown",
            "source": "***\n1. one\n2. two\n3. three\n4. four\n5. five\n6. six\n7. seven\n    8. substep\n    \n- bullet point one\n- bullet point two\n\n"
        }
    ],
    "metadata": {
        "kernelspec": {
            "name": "python3",
            "display_name": "Python 3.10",
            "language": "python"
        },
        "language_info": {
            "name": "python",
            "version": "3.10.6",
            "mimetype": "text/x-python",
            "codemirror_mode": {
                "name": "ipython",
                "version": 3
            },
            "pygments_lexer": "ipython3",
            "nbconvert_exporter": "python",
            "file_extension": ".py"
        }
    },
    "nbformat": 4,
    "nbformat_minor": 1
}